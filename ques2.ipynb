{
 "cells": [
  {
   "cell_type": "code",
   "execution_count": 6,
   "metadata": {},
   "outputs": [
    {
     "name": "stdout",
     "output_type": "stream",
     "text": [
      "0      2.0\n",
      "1      2.0\n",
      "2      5.0\n",
      "3      5.0\n",
      "4      5.0\n",
      "5      7.0\n",
      "6      7.0\n",
      "7      8.0\n",
      "8     10.0\n",
      "9     10.0\n",
      "10    12.0\n",
      "11    12.0\n",
      "12    13.0\n",
      "dtype: float64\n",
      "0      1.0\n",
      "1      2.0\n",
      "2      3.0\n",
      "3      4.0\n",
      "4      5.0\n",
      "5      6.0\n",
      "6      7.0\n",
      "7      8.0\n",
      "8      9.0\n",
      "9     10.0\n",
      "10    11.0\n",
      "11    12.0\n",
      "12    13.0\n",
      "dtype: float64\n"
     ]
    },
    {
     "ename": "AttributeError",
     "evalue": "'numpy.ndarray' object has no attribute 'idxmin'",
     "output_type": "error",
     "traceback": [
      "\u001b[1;31m---------------------------------------------------------------------------\u001b[0m",
      "\u001b[1;31mAttributeError\u001b[0m                            Traceback (most recent call last)",
      "Cell \u001b[1;32mIn[6], line 7\u001b[0m\n\u001b[0;32m      5\u001b[0m \u001b[38;5;28mprint\u001b[39m(series\u001b[38;5;241m.\u001b[39mrank(method\u001b[38;5;241m=\u001b[39m\u001b[38;5;124m'\u001b[39m\u001b[38;5;124mmax\u001b[39m\u001b[38;5;124m'\u001b[39m))\n\u001b[0;32m      6\u001b[0m \u001b[38;5;28mprint\u001b[39m(series\u001b[38;5;241m.\u001b[39mrank(method\u001b[38;5;241m=\u001b[39m\u001b[38;5;124m'\u001b[39m\u001b[38;5;124mfirst\u001b[39m\u001b[38;5;124m'\u001b[39m))\n\u001b[1;32m----> 7\u001b[0m min_index\u001b[38;5;241m=\u001b[39m\u001b[43marray1\u001b[49m\u001b[38;5;241;43m.\u001b[39;49m\u001b[43midxmin\u001b[49m()\n\u001b[0;32m      8\u001b[0m max_index\u001b[38;5;241m=\u001b[39marray1\u001b[38;5;241m.\u001b[39midxmax()\n\u001b[0;32m      9\u001b[0m \u001b[38;5;28mprint\u001b[39m(min_index,max_index)\n",
      "\u001b[1;31mAttributeError\u001b[0m: 'numpy.ndarray' object has no attribute 'idxmin'"
     ]
    }
   ],
   "source": [
    "\n",
    "import numpy as np\n",
    "import pandas as pd\n",
    "array1= np.array([1,1,2,2,2,4,4,5,6,6,7,7,8])\n",
    "series=pd.Series(array1)\n",
    "print(series.rank(method='max'))\n",
    "print(series.rank(method='first'))\n",
    "min_index=series.idxmin()\n",
    "max_index=series.idxmax()\n",
    "print(min_index,max_index)"
   ]
  }
 ],
 "metadata": {
  "kernelspec": {
   "display_name": "Python 3",
   "language": "python",
   "name": "python3"
  },
  "language_info": {
   "codemirror_mode": {
    "name": "ipython",
    "version": 3
   },
   "file_extension": ".py",
   "mimetype": "text/x-python",
   "name": "python",
   "nbconvert_exporter": "python",
   "pygments_lexer": "ipython3",
   "version": "3.11.2"
  }
 },
 "nbformat": 4,
 "nbformat_minor": 2
}
